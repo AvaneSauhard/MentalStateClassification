{
  "nbformat": 4,
  "nbformat_minor": 0,
  "metadata": {
    "colab": {
      "name": "04/02/2022UpsampledMultichannel.ipynb",
      "provenance": [],
      "include_colab_link": true
    },
    "kernelspec": {
      "name": "python3",
      "display_name": "Python 3"
    },
    "language_info": {
      "name": "python"
    }
  },
  "cells": [
    {
      "cell_type": "markdown",
      "metadata": {
        "id": "view-in-github",
        "colab_type": "text"
      },
      "source": [
        "<a href=\"https://colab.research.google.com/github/AvaneSauhard/MentalStateClassification/blob/main/MentalStateClassificationFinal.ipynb\" target=\"_parent\"><img src=\"https://colab.research.google.com/assets/colab-badge.svg\" alt=\"Open In Colab\"/></a>"
      ]
    },
    {
      "cell_type": "code",
      "metadata": {
        "id": "psK1BCkMFiwL"
      },
      "source": [
        "#importing libraries\n",
        "from google.colab import drive\n",
        "import numpy as np\n",
        "import pandas as pd\n",
        "import tensorflow as tf\n",
        "import seaborn as sns\n",
        "import matplotlib.pyplot as plt\n",
        "import keras\n",
        "from tensorflow.keras.utils import to_categorical\n",
        "from sklearn.utils import resample\n",
        "import itertools\n",
        "from sklearn.metrics import classification_report, confusion_matrix"
      ],
      "execution_count": null,
      "outputs": []
    },
    {
      "cell_type": "code",
      "source": [
        "from google.colab import drive\n",
        "drive.mount('/content/drive')"
      ],
      "metadata": {
        "id": "-U9tvtFYEmqK"
      },
      "execution_count": null,
      "outputs": []
    },
    {
      "cell_type": "code",
      "metadata": {
        "id": "piJt9eL7JpY0",
        "colab": {
          "base_uri": "https://localhost:8080/"
        },
        "outputId": "994dd668-d63b-448c-83e5-5140c2da63d9"
      },
      "source": [
        "#read CSV File\n",
        "AF7 = pd.read_csv(\"/content/drive/MyDrive/eeg data/AF7.csv\",header=None)\n",
        "TP9 = pd.read_csv(\"/content/drive/MyDrive/eeg data/TP9.csv\",header=None)\n",
        "TP10 = pd.read_csv(\"/content/drive/MyDrive/eeg data/TP10.csv\",header=None)\n",
        "AF8 = pd.read_csv(\"/content/drive/MyDrive/eeg data/AF8.csv\",header=None)\n",
        "AF7.shape\n",
        "TP9.shape\n",
        "TP10.shape\n",
        "AF8.shape\n",
        "\n"
      ],
      "execution_count": null,
      "outputs": [
        {
          "output_type": "execute_result",
          "data": {
            "text/plain": [
              "(12, 11365)"
            ]
          },
          "metadata": {},
          "execution_count": 3
        }
      ]
    },
    {
      "cell_type": "code",
      "metadata": {
        "id": "zXXzY6RmCAOF"
      },
      "source": [
        "\n",
        "\n",
        "#data = [AF7,AF8,TP9,TP10]\n",
        "#newdata=pd.concat(data,axis=1,ignore_index=True)\n",
        "#display(newdata)\n"
      ],
      "execution_count": null,
      "outputs": []
    },
    {
      "cell_type": "code",
      "metadata": {
        "id": "_nMGRK5MVXAF",
        "colab": {
          "base_uri": "https://localhost:8080/"
        },
        "outputId": "1deda2e6-03b5-4ef4-b36d-2e780504508e"
      },
      "source": [
        "AF7.isnull().sum()\n",
        "AF8.isnull().sum()\n",
        "TP9.isnull().sum()\n",
        "TP10.isnull().sum()"
      ],
      "execution_count": null,
      "outputs": [
        {
          "output_type": "execute_result",
          "data": {
            "text/plain": [
              "0        0\n",
              "1        0\n",
              "2        0\n",
              "3        0\n",
              "4        0\n",
              "        ..\n",
              "11360    0\n",
              "11361    0\n",
              "11362    0\n",
              "11363    0\n",
              "11364    0\n",
              "Length: 11365, dtype: int64"
            ]
          },
          "metadata": {},
          "execution_count": 5
        }
      ]
    },
    {
      "cell_type": "code",
      "metadata": {
        "id": "F3K2v9-oIBPe"
      },
      "source": [
        "AF7[11364]=AF7[11364].astype('int')\n",
        "AF8[11364]=AF8[11364].astype('int')\n",
        "TP9[11364]=TP9[11364].astype('int')\n",
        "TP10[11364]=TP10[11364].astype('int')"
      ],
      "execution_count": null,
      "outputs": []
    },
    {
      "cell_type": "code",
      "source": [
        "AF7_0 = AF7[AF7[11364]==0]\n",
        "AF7_1 = AF7[AF7[11364]==1]\n",
        "AF7_2 = AF7[AF7[11364]==2]\n",
        "\n",
        "AF8_0 = AF8[AF8[11364]==0]\n",
        "AF8_1 = AF8[AF8[11364]==1]\n",
        "AF8_2 = AF8[AF8[11364]==2]\n",
        "\n",
        "TP9_0 = TP9[TP9[11364]==0]\n",
        "TP9_1 = TP9[TP9[11364]==1]\n",
        "TP9_2 = TP9[TP9[11364]==2]\n",
        "\n",
        "TP10_0 = TP10[TP10[11364]==0]\n",
        "TP10_1 = TP10[TP10[11364]==1]\n",
        "TP10_2 = TP10[TP10[11364]==2]\n",
        "\n",
        "\n",
        "\n"
      ],
      "metadata": {
        "id": "w0cYSXWiDQ61"
      },
      "execution_count": null,
      "outputs": []
    },
    {
      "cell_type": "code",
      "source": [
        "AF7_0 = AF7_0.iloc[:,:-1]\n",
        "AF7_1 = AF7_1.iloc[:,:-1]\n",
        "AF7_2 = AF7_2.iloc[:,:-1]\n",
        "\n",
        "AF8_0 = AF8_0.iloc[:,:-1]\n",
        "AF8_1 = AF8_1.iloc[:,:-1]\n",
        "AF8_2 = AF8_2.iloc[:,:-1]\n",
        "\n",
        "TP9_0 = TP9_0.iloc[:,:-1]\n",
        "TP9_1 = TP9_1.iloc[:,:-1]\n",
        "TP9_2 = TP9_2.iloc[:,:-1]\n",
        "\n",
        "TP10_0 = TP10_0.iloc[:,:-1]\n",
        "TP10_1 = TP10_1.iloc[:,:-1]\n",
        "TP10_2 = TP10_2.iloc[:,:-1]\n",
        "\n"
      ],
      "metadata": {
        "id": "gFjO27g__FTH"
      },
      "execution_count": null,
      "outputs": []
    },
    {
      "cell_type": "code",
      "source": [
        "\n",
        "def generatenoise(data_n):\n",
        "  dfn  = pd.DataFrame()\n",
        "  \n",
        "  for row in range(len(data_n)):\n",
        "    mu = 0\n",
        "    sigma = 1\n",
        "    for j in range(0,10):\n",
        "      noise = np.random.normal(mu,sigma,size = data_n.iloc[[row]].shape)\n",
        "      df  = pd.DataFrame()\n",
        "      df = data_n.iloc[[row]] + 0.2*noise\n",
        "      dfn = pd.concat([dfn,df], axis = 0, ignore_index = True)\n",
        "\n",
        "    for j in range(0,10):\n",
        "      noise = np.random.normal(mu,sigma,size = data_n.iloc[[row]].shape)\n",
        "      df  = pd.DataFrame()\n",
        "      df = data_n.iloc[[row]] + 0.3*noise\n",
        "      dfn = pd.concat([dfn,df], axis = 0, ignore_index = True)\n",
        "      \n",
        "  return dfn\n",
        "\n"
      ],
      "metadata": {
        "id": "AOeqJb9o_7zf"
      },
      "execution_count": null,
      "outputs": []
    },
    {
      "cell_type": "code",
      "source": [
        "AF7_n0 = generatenoise(AF7_0)\n",
        "AF7_n1 = generatenoise(AF7_1)\n",
        "AF7_n2 = generatenoise(AF7_2)\n",
        "\n",
        "AF8_n0 = generatenoise(AF8_0)\n",
        "AF8_n1 = generatenoise(AF8_1)\n",
        "AF8_n2 = generatenoise(AF8_2)\n",
        "\n",
        "TP9_n0 = generatenoise(TP9_0)\n",
        "TP9_n1 = generatenoise(TP9_1)\n",
        "TP9_n2 = generatenoise(TP9_2)\n",
        "\n",
        "TP10_n0 = generatenoise(TP10_0)\n",
        "TP10_n1 = generatenoise(TP10_1)\n",
        "TP10_n2 = generatenoise(TP10_2)"
      ],
      "metadata": {
        "id": "DHdXtzt2BCLd"
      },
      "execution_count": null,
      "outputs": []
    },
    {
      "cell_type": "code",
      "source": [
        "AF7_0 = pd.concat([AF7_0, AF7_n0], axis=0, ignore_index = True)\n",
        "AF7_1 = pd.concat([AF7_1, AF7_n1], axis=0, ignore_index = True)\n",
        "AF7_2 = pd.concat([AF7_2, AF7_n2], axis=0, ignore_index = True)\n",
        "\n",
        "AF8_0 = pd.concat([AF8_0, AF8_n0], axis=0, ignore_index = True)\n",
        "AF8_1 = pd.concat([AF8_1, AF8_n1], axis=0, ignore_index = True)\n",
        "AF8_2 = pd.concat([AF8_2, AF8_n2], axis=0, ignore_index = True)\n",
        "\n",
        "\n",
        "TP9_0 = pd.concat([TP9_0, TP9_n0], axis=0, ignore_index = True)\n",
        "TP9_1 = pd.concat([TP9_1, TP9_n1], axis=0, ignore_index = True)\n",
        "TP9_2 = pd.concat([TP9_2, TP9_n2], axis=0, ignore_index = True)\n",
        "\n",
        "\n",
        "TP10_0 = pd.concat([TP10_0, TP10_n0], axis=0, ignore_index = True)\n",
        "TP10_1 = pd.concat([TP10_1, TP10_n1], axis=0, ignore_index = True)\n",
        "TP10_2 = pd.concat([TP10_2, TP10_n2], axis=0, ignore_index = True)"
      ],
      "metadata": {
        "id": "xc3tZxGJDcRK"
      },
      "execution_count": null,
      "outputs": []
    },
    {
      "cell_type": "code",
      "source": [
        "AF7_0[11364] = 0\n",
        "AF8_0[11364] = 0\n",
        "TP9_0[11364] = 0\n",
        "TP10_0[11364] = 0\n",
        "\n",
        "AF7_1[11364] = 1\n",
        "AF8_1[11364] = 1\n",
        "TP9_1[11364] = 1\n",
        "TP10_1[11364] = 1\n",
        "\n",
        "AF7_2[11364] = 2\n",
        "AF8_2[11364] = 2\n",
        "TP9_2[11364] = 2\n",
        "TP10_2[11364] = 2\n",
        "\n"
      ],
      "metadata": {
        "id": "QEtdrOzabbqe"
      },
      "execution_count": null,
      "outputs": []
    },
    {
      "cell_type": "code",
      "source": [
        "from sklearn.model_selection import train_test_split\n",
        "\n",
        "AF7_0_TRAIN, AF7_0_TEST = train_test_split(AF7_0, random_state=42, shuffle= True)\n",
        "AF7_1_TRAIN, AF7_1_TEST = train_test_split(AF7_1, random_state=42, shuffle= True)\n",
        "AF7_2_TRAIN, AF7_2_TEST = train_test_split(AF7_2, random_state=42, shuffle= True)\n",
        "\n",
        "AF8_0_TRAIN, AF8_0_TEST = train_test_split(AF8_0, random_state=42, shuffle= True)\n",
        "AF8_1_TRAIN, AF8_1_TEST = train_test_split(AF8_1, random_state=42, shuffle= True)\n",
        "AF8_2_TRAIN, AF8_2_TEST = train_test_split(AF8_2, random_state=42, shuffle= True)\n",
        "\n",
        "TP9_0_TRAIN, TP9_0_TEST = train_test_split(TP9_0, random_state=42, shuffle= True)\n",
        "TP9_1_TRAIN, TP9_1_TEST = train_test_split(TP9_1, random_state=42, shuffle= True)\n",
        "TP9_2_TRAIN, TP9_2_TEST = train_test_split(TP9_2, random_state=42, shuffle= True)\n",
        "\n",
        "TP10_0_TRAIN, TP10_0_TEST = train_test_split(TP10_0, random_state=42, shuffle= True)\n",
        "TP10_1_TRAIN, TP10_1_TEST = train_test_split(TP10_1, random_state=42, shuffle= True)\n",
        "TP10_2_TRAIN, TP10_2_TEST = train_test_split(TP10_2, random_state=42, shuffle= True)"
      ],
      "metadata": {
        "id": "O0YhKphiEfEz"
      },
      "execution_count": null,
      "outputs": []
    },
    {
      "cell_type": "code",
      "source": [
        "AF7_train = pd.concat([AF7_0_TRAIN, AF7_1_TRAIN, AF7_2_TRAIN], axis=0, sort= False, ignore_index= True)\n",
        "AF8_train = pd.concat([AF8_0_TRAIN, AF8_1_TRAIN, AF8_2_TRAIN], axis=0, sort= False, ignore_index= True)\n",
        "TP9_train = pd.concat([TP9_0_TRAIN, TP9_1_TRAIN, TP9_2_TRAIN], axis=0, sort= False, ignore_index= True)\n",
        "TP10_train = pd.concat([TP10_0_TRAIN, TP10_1_TRAIN, TP10_2_TRAIN], axis=0, sort= False, ignore_index= True)"
      ],
      "metadata": {
        "id": "ddM2-Op6GJLO"
      },
      "execution_count": null,
      "outputs": []
    },
    {
      "cell_type": "code",
      "source": [
        "AF7_test = pd.concat([AF7_0_TEST, AF7_1_TEST, AF7_2_TEST], axis=0, sort= False, ignore_index= True)\n",
        "AF8_test = pd.concat([AF8_0_TEST, AF8_1_TEST, AF8_2_TEST], axis=0, sort= False, ignore_index= True)\n",
        "TP9_test = pd.concat([TP9_0_TEST, TP9_1_TEST, TP9_2_TEST], axis=0, sort= False, ignore_index= True)\n",
        "TP10_test = pd.concat([TP10_0_TEST, TP10_1_TEST, TP10_2_TEST], axis=0, sort= False, ignore_index= True)"
      ],
      "metadata": {
        "id": "oHGrDmfpHAp8"
      },
      "execution_count": null,
      "outputs": []
    },
    {
      "cell_type": "code",
      "source": [
        "train_data = [AF7_train,AF8_train,TP9_train,TP10_train]\n",
        "test_data = [AF7_test,AF8_test,TP9_test,TP10_test]"
      ],
      "metadata": {
        "id": "UsMvJjLeJXQ0"
      },
      "execution_count": null,
      "outputs": []
    },
    {
      "cell_type": "code",
      "source": [
        "train_data = np.dstack(train_data)\n",
        "test_data = np.dstack(test_data)"
      ],
      "metadata": {
        "id": "tWweqzrIEJc7"
      },
      "execution_count": null,
      "outputs": []
    },
    {
      "cell_type": "code",
      "source": [
        "train_data.shape"
      ],
      "metadata": {
        "colab": {
          "base_uri": "https://localhost:8080/"
        },
        "id": "1J_xBMqoKWIJ",
        "outputId": "1031758b-1a42-4f6d-e697-b704395dc664"
      },
      "execution_count": null,
      "outputs": [
        {
          "output_type": "execute_result",
          "data": {
            "text/plain": [
              "(189, 11365, 4)"
            ]
          },
          "metadata": {},
          "execution_count": 18
        }
      ]
    },
    {
      "cell_type": "code",
      "source": [
        "test_data.shape"
      ],
      "metadata": {
        "colab": {
          "base_uri": "https://localhost:8080/"
        },
        "id": "M7wszonIKwTD",
        "outputId": "c4f513d4-8e90-4a65-f5ec-6787f2964dc9"
      },
      "execution_count": null,
      "outputs": [
        {
          "output_type": "execute_result",
          "data": {
            "text/plain": [
              "(63, 11365, 4)"
            ]
          },
          "metadata": {},
          "execution_count": 19
        }
      ]
    },
    {
      "cell_type": "code",
      "metadata": {
        "id": "PX2VSHItKwOk"
      },
      "source": [
        "# creating labels\n",
        "target_train = train_data[:,11364,0]\n",
        "target_test = test_data[:,11364,0]"
      ],
      "execution_count": null,
      "outputs": []
    },
    {
      "cell_type": "code",
      "source": [
        "target_train.shape"
      ],
      "metadata": {
        "colab": {
          "base_uri": "https://localhost:8080/"
        },
        "id": "HHMhWQsKL9Qp",
        "outputId": "f9525df5-85a7-4241-a6be-0b2d1d20ac6d"
      },
      "execution_count": null,
      "outputs": [
        {
          "output_type": "execute_result",
          "data": {
            "text/plain": [
              "(189,)"
            ]
          },
          "metadata": {},
          "execution_count": 21
        }
      ]
    },
    {
      "cell_type": "code",
      "metadata": {
        "id": "-tw7NhcmLq8V",
        "colab": {
          "base_uri": "https://localhost:8080/"
        },
        "outputId": "35d4152a-62e7-47f2-9b07-3f4f05830c1a"
      },
      "source": [
        "# applying one hot encoding\n",
        "y_train = to_categorical(target_train)\n",
        "y_test = to_categorical(target_test)\n",
        "# removing last column\n",
        "x_train = train_data[:, :-1,:]\n",
        "x_test = test_data[:, :-1,:]\n",
        "\n",
        "x_train = x_train.reshape(len(x_train), x_train.shape[1],4)\n",
        "x_test = x_test.reshape(len(x_test), x_test.shape[1],4)\n",
        "\n",
        "x_train.shape\n",
        "x_test.shape"
      ],
      "execution_count": null,
      "outputs": [
        {
          "output_type": "execute_result",
          "data": {
            "text/plain": [
              "(63, 11364, 4)"
            ]
          },
          "metadata": {},
          "execution_count": 22
        }
      ]
    },
    {
      "cell_type": "code",
      "source": [
        "y_train.shape"
      ],
      "metadata": {
        "colab": {
          "base_uri": "https://localhost:8080/"
        },
        "id": "rSUyzP_rQ6iY",
        "outputId": "a49474d4-1761-445a-d208-a7d125f50814"
      },
      "execution_count": null,
      "outputs": [
        {
          "output_type": "execute_result",
          "data": {
            "text/plain": [
              "(189, 3)"
            ]
          },
          "metadata": {},
          "execution_count": 23
        }
      ]
    },
    {
      "cell_type": "code",
      "metadata": {
        "id": "8IK9xnlDMxjd",
        "colab": {
          "base_uri": "https://localhost:8080/"
        },
        "outputId": "cd8e40e3-d6a1-4785-c227-707dc01b0514"
      },
      "source": [
        "def build_model():\n",
        "  model = tf.keras.models.Sequential()\n",
        "\n",
        "  model.add(tf.keras.layers.Conv1D(filters = 64, kernel_size = 6, activation = 'relu',  input_shape = (11364,4)))\n",
        "  model.add(tf.keras.layers.BatchNormalization())\n",
        "  model.add(tf.keras.layers.MaxPooling1D(pool_size = (3), strides = (1)))\n",
        "  \n",
        "  model.add(tf.keras.layers.Conv1D(filters = 32, kernel_size = 6, activation = 'relu', input_shape = (11357,4)))\n",
        "  model.add(tf.keras.layers.BatchNormalization())\n",
        "  model.add(tf.keras.layers.MaxPooling1D(pool_size = (3), strides = (1)))\n",
        "\n",
        "  model.add(tf.keras.layers.Conv1D(filters = 16, kernel_size = 6, activation = 'relu',  input_shape = (11350,4)))\n",
        "  model.add(tf.keras.layers.BatchNormalization())\n",
        "  model.add(tf.keras.layers.MaxPooling1D(pool_size = (3), strides = (1)))\n",
        "\n",
        "  model.add(tf.keras.layers.Flatten())\n",
        "\n",
        "  model.add(tf.keras.layers.Dense(units = 64, activation= 'relu'))\n",
        "\n",
        "  model.add(tf.keras.layers.Dense(units = 64, activation= 'relu'))\n",
        "  \n",
        "  model.add(tf.keras.layers.Dense(units = 3, activation= 'softmax'))\n",
        " \n",
        "  model.compile(optimizer = 'Adam', loss = 'categorical_crossentropy', metrics = ['accuracy'])\n",
        "  return model\n",
        "model = build_model()\n",
        "model.summary()\n"
      ],
      "execution_count": null,
      "outputs": [
        {
          "output_type": "stream",
          "name": "stdout",
          "text": [
            "Model: \"sequential\"\n",
            "_________________________________________________________________\n",
            " Layer (type)                Output Shape              Param #   \n",
            "=================================================================\n",
            " conv1d (Conv1D)             (None, 11359, 64)         1600      \n",
            "                                                                 \n",
            " batch_normalization (BatchN  (None, 11359, 64)        256       \n",
            " ormalization)                                                   \n",
            "                                                                 \n",
            " max_pooling1d (MaxPooling1D  (None, 11357, 64)        0         \n",
            " )                                                               \n",
            "                                                                 \n",
            " conv1d_1 (Conv1D)           (None, 11352, 32)         12320     \n",
            "                                                                 \n",
            " batch_normalization_1 (Batc  (None, 11352, 32)        128       \n",
            " hNormalization)                                                 \n",
            "                                                                 \n",
            " max_pooling1d_1 (MaxPooling  (None, 11350, 32)        0         \n",
            " 1D)                                                             \n",
            "                                                                 \n",
            " conv1d_2 (Conv1D)           (None, 11345, 16)         3088      \n",
            "                                                                 \n",
            " batch_normalization_2 (Batc  (None, 11345, 16)        64        \n",
            " hNormalization)                                                 \n",
            "                                                                 \n",
            " max_pooling1d_2 (MaxPooling  (None, 11343, 16)        0         \n",
            " 1D)                                                             \n",
            "                                                                 \n",
            " flatten (Flatten)           (None, 181488)            0         \n",
            "                                                                 \n",
            " dense (Dense)               (None, 64)                11615296  \n",
            "                                                                 \n",
            " dense_1 (Dense)             (None, 64)                4160      \n",
            "                                                                 \n",
            " dense_2 (Dense)             (None, 3)                 195       \n",
            "                                                                 \n",
            "=================================================================\n",
            "Total params: 11,637,107\n",
            "Trainable params: 11,636,883\n",
            "Non-trainable params: 224\n",
            "_________________________________________________________________\n"
          ]
        }
      ]
    },
    {
      "cell_type": "code",
      "source": [
        "x_train, x_valid, y_train, y_valid = train_test_split(x_train, y_train, test_size=0.3, shuffle= True)"
      ],
      "metadata": {
        "id": "FAwobGzk6ZBf"
      },
      "execution_count": null,
      "outputs": []
    },
    {
      "cell_type": "code",
      "metadata": {
        "id": "2IbBkjEAQobR",
        "colab": {
          "base_uri": "https://localhost:8080/"
        },
        "outputId": "611b2578-05f5-490e-8a7d-3f87d914d7d9"
      },
      "source": [
        "history = model.fit(x_train, y_train, epochs =12, batch_size = 24, validation_data = (x_valid, y_valid))"
      ],
      "execution_count": null,
      "outputs": [
        {
          "output_type": "stream",
          "name": "stdout",
          "text": [
            "Epoch 1/12\n",
            "6/6 [==============================] - 19s 2s/step - loss: 2.2319 - accuracy: 0.8258 - val_loss: 306.8311 - val_accuracy: 0.2982\n",
            "Epoch 2/12\n",
            "6/6 [==============================] - 12s 2s/step - loss: 2.5106 - accuracy: 0.8939 - val_loss: 319.9123 - val_accuracy: 0.2982\n",
            "Epoch 3/12\n",
            "6/6 [==============================] - 12s 2s/step - loss: 0.5577 - accuracy: 0.9773 - val_loss: 258.7978 - val_accuracy: 0.2982\n",
            "Epoch 4/12\n",
            "6/6 [==============================] - 12s 2s/step - loss: 0.0000e+00 - accuracy: 1.0000 - val_loss: 191.1800 - val_accuracy: 0.3333\n",
            "Epoch 5/12\n",
            "6/6 [==============================] - 12s 2s/step - loss: 0.0000e+00 - accuracy: 1.0000 - val_loss: 125.2488 - val_accuracy: 0.3333\n",
            "Epoch 6/12\n",
            "6/6 [==============================] - 12s 2s/step - loss: 0.0000e+00 - accuracy: 1.0000 - val_loss: 92.1432 - val_accuracy: 0.5789\n",
            "Epoch 7/12\n",
            "6/6 [==============================] - 12s 2s/step - loss: 0.0016 - accuracy: 1.0000 - val_loss: 69.3421 - val_accuracy: 0.5789\n",
            "Epoch 8/12\n",
            "6/6 [==============================] - 12s 2s/step - loss: 0.0000e+00 - accuracy: 1.0000 - val_loss: 59.7563 - val_accuracy: 0.7018\n",
            "Epoch 9/12\n",
            "6/6 [==============================] - 13s 2s/step - loss: 0.0000e+00 - accuracy: 1.0000 - val_loss: 50.5452 - val_accuracy: 0.7368\n",
            "Epoch 10/12\n",
            "6/6 [==============================] - 12s 2s/step - loss: 0.0000e+00 - accuracy: 1.0000 - val_loss: 40.8291 - val_accuracy: 0.7368\n",
            "Epoch 11/12\n",
            "6/6 [==============================] - 13s 2s/step - loss: 0.0000e+00 - accuracy: 1.0000 - val_loss: 31.1750 - val_accuracy: 0.7368\n",
            "Epoch 12/12\n",
            "6/6 [==============================] - 12s 2s/step - loss: 0.0000e+00 - accuracy: 1.0000 - val_loss: 24.5329 - val_accuracy: 0.8772\n"
          ]
        }
      ]
    },
    {
      "cell_type": "code",
      "metadata": {
        "id": "L-2PZUD4UWhG",
        "colab": {
          "base_uri": "https://localhost:8080/",
          "height": 531
        },
        "outputId": "1062673d-dc6b-4a0a-cf36-e2bd85c967b4"
      },
      "source": [
        "# Converting history to data frame\n",
        "pd.DataFrame(history.history)\n",
        "pd.DataFrame(history.history)[['accuracy','val_accuracy']].plot()\n",
        "pd.DataFrame(history.history)[['loss','val_loss']].plot()"
      ],
      "execution_count": null,
      "outputs": [
        {
          "output_type": "execute_result",
          "data": {
            "text/plain": [
              "<matplotlib.axes._subplots.AxesSubplot at 0x7f0b51bd6b90>"
            ]
          },
          "metadata": {},
          "execution_count": 27
        },
        {
          "output_type": "display_data",
          "data": {
            "text/plain": [
              "<Figure size 432x288 with 1 Axes>"
            ],
            "image/png": "[encoded data removed]"
          },
          "metadata": {
            "needs_background": "light"
          }
        },
        {
          "output_type": "display_data",
          "data": {
            "text/plain": [
              "<Figure size 432x288 with 1 Axes>"
            ],
            "image/png": "[encoded data removed]"
          },
          "metadata": {
            "needs_background": "light"
          }
        }
      ]
    },
    {
      "cell_type": "code",
      "metadata": {
        "id": "IyWMbAqNPxxP",
        "colab": {
          "base_uri": "https://localhost:8080/"
        },
        "outputId": "9020f45d-702c-4b82-9325-cbb0f8da5f01"
      },
      "source": [
        "loss,accuracy = model.evaluate(x_test,y_test)\n",
        "print('Loss=',loss)\n",
        "print('Accuracy=',accuracy)"
      ],
      "execution_count": null,
      "outputs": [
        {
          "output_type": "stream",
          "name": "stdout",
          "text": [
            "2/2 [==============================] - 1s 445ms/step - loss: 15.8578 - accuracy: 0.9206\n",
            "Loss= 15.857762336730957\n",
            "Accuracy= 0.920634925365448\n"
          ]
        }
      ]
    },
    {
      "cell_type": "code",
      "metadata": {
        "id": "UNrDKUFSRFFa",
        "colab": {
          "base_uri": "https://localhost:8080/"
        },
        "outputId": "4135e5e4-3d9b-411e-8c6f-491f2e254a94"
      },
      "source": [
        "P = model.predict(x_test)\n",
        "print('P=',P)\n",
        "print('shape of P=',P.shape)\n"
      ],
      "execution_count": null,
      "outputs": [
        {
          "output_type": "stream",
          "name": "stdout",
          "text": [
            "P= [[1.0000000e+00 0.0000000e+00 0.0000000e+00]\n",
            " [1.0000000e+00 0.0000000e+00 0.0000000e+00]\n",
            " [1.0000000e+00 0.0000000e+00 0.0000000e+00]\n",
            " [1.0000000e+00 0.0000000e+00 0.0000000e+00]\n",
            " [1.0000000e+00 0.0000000e+00 0.0000000e+00]\n",
            " [1.0000000e+00 0.0000000e+00 0.0000000e+00]\n",
            " [1.0000000e+00 0.0000000e+00 0.0000000e+00]\n",
            " [1.0000000e+00 0.0000000e+00 0.0000000e+00]\n",
            " [1.0000000e+00 0.0000000e+00 0.0000000e+00]\n",
            " [1.0000000e+00 0.0000000e+00 0.0000000e+00]\n",
            " [1.0000000e+00 0.0000000e+00 0.0000000e+00]\n",
            " [1.0000000e+00 0.0000000e+00 0.0000000e+00]\n",
            " [1.0000000e+00 0.0000000e+00 0.0000000e+00]\n",
            " [1.0000000e+00 0.0000000e+00 0.0000000e+00]\n",
            " [1.0000000e+00 0.0000000e+00 0.0000000e+00]\n",
            " [1.0000000e+00 0.0000000e+00 0.0000000e+00]\n",
            " [1.0000000e+00 0.0000000e+00 0.0000000e+00]\n",
            " [1.0000000e+00 0.0000000e+00 0.0000000e+00]\n",
            " [1.0000000e+00 0.0000000e+00 0.0000000e+00]\n",
            " [1.0000000e+00 0.0000000e+00 0.0000000e+00]\n",
            " [1.0000000e+00 0.0000000e+00 0.0000000e+00]\n",
            " [2.7408588e-13 1.0000000e+00 0.0000000e+00]\n",
            " [3.4552931e-28 1.0000000e+00 0.0000000e+00]\n",
            " [1.0000000e+00 0.0000000e+00 0.0000000e+00]\n",
            " [3.7317897e-28 1.0000000e+00 0.0000000e+00]\n",
            " [3.2853375e-28 1.0000000e+00 0.0000000e+00]\n",
            " [2.6963436e-13 1.0000000e+00 0.0000000e+00]\n",
            " [3.7513434e-28 1.0000000e+00 0.0000000e+00]\n",
            " [3.6395071e-28 1.0000000e+00 0.0000000e+00]\n",
            " [3.6387295e-28 1.0000000e+00 0.0000000e+00]\n",
            " [2.6120154e-13 1.0000000e+00 0.0000000e+00]\n",
            " [1.2369705e-08 1.0000000e+00 0.0000000e+00]\n",
            " [1.0000000e+00 0.0000000e+00 0.0000000e+00]\n",
            " [1.2884361e-08 1.0000000e+00 0.0000000e+00]\n",
            " [2.8577989e-13 1.0000000e+00 0.0000000e+00]\n",
            " [1.0000000e+00 0.0000000e+00 0.0000000e+00]\n",
            " [1.0000000e+00 0.0000000e+00 0.0000000e+00]\n",
            " [1.1739671e-08 1.0000000e+00 0.0000000e+00]\n",
            " [3.1164036e-13 1.0000000e+00 0.0000000e+00]\n",
            " [1.2879152e-08 1.0000000e+00 0.0000000e+00]\n",
            " [1.0000000e+00 0.0000000e+00 0.0000000e+00]\n",
            " [3.1949290e-28 1.0000000e+00 0.0000000e+00]\n",
            " [0.0000000e+00 0.0000000e+00 1.0000000e+00]\n",
            " [5.2248872e-18 9.3454980e-28 1.0000000e+00]\n",
            " [0.0000000e+00 1.7041468e-25 1.0000000e+00]\n",
            " [5.2752157e-18 7.8554821e-28 1.0000000e+00]\n",
            " [5.0141364e-18 8.4581701e-28 1.0000000e+00]\n",
            " [0.0000000e+00 0.0000000e+00 1.0000000e+00]\n",
            " [5.5425262e-18 9.8229582e-28 1.0000000e+00]\n",
            " [5.6802005e-18 8.9533276e-28 1.0000000e+00]\n",
            " [5.3666341e-18 9.1535945e-28 1.0000000e+00]\n",
            " [0.0000000e+00 0.0000000e+00 1.0000000e+00]\n",
            " [0.0000000e+00 0.0000000e+00 1.0000000e+00]\n",
            " [0.0000000e+00 1.8932174e-25 1.0000000e+00]\n",
            " [0.0000000e+00 0.0000000e+00 1.0000000e+00]\n",
            " [0.0000000e+00 0.0000000e+00 1.0000000e+00]\n",
            " [0.0000000e+00 1.6994532e-25 1.0000000e+00]\n",
            " [0.0000000e+00 1.5468444e-25 1.0000000e+00]\n",
            " [0.0000000e+00 0.0000000e+00 1.0000000e+00]\n",
            " [0.0000000e+00 0.0000000e+00 1.0000000e+00]\n",
            " [0.0000000e+00 0.0000000e+00 1.0000000e+00]\n",
            " [0.0000000e+00 1.8799825e-25 1.0000000e+00]\n",
            " [5.0340107e-18 8.2209889e-28 1.0000000e+00]]\n",
            "shape of P= (63, 3)\n"
          ]
        }
      ]
    },
    {
      "cell_type": "code",
      "metadata": {
        "id": "R5W55xwCRgyu",
        "colab": {
          "base_uri": "https://localhost:8080/"
        },
        "outputId": "f38d9cea-59f0-402f-c8bb-ac6cfa823d35"
      },
      "source": [
        "# converting prediction to classes\n",
        "y_pred = np.argmax(P, axis=1)\n",
        "print('shape of y_pred=',y_pred.shape)"
      ],
      "execution_count": null,
      "outputs": [
        {
          "output_type": "stream",
          "name": "stdout",
          "text": [
            "shape of y_pred= (63,)\n"
          ]
        }
      ]
    },
    {
      "cell_type": "code",
      "metadata": {
        "id": "K8ejFpwqRx7W",
        "colab": {
          "base_uri": "https://localhost:8080/"
        },
        "outputId": "3ab4b438-6ec6-4881-e549-08d35ccde56e"
      },
      "source": [
        "y_test = np.argmax(y_test, axis=1)\n",
        "print('shape of y_test=', y_test.shape)\n",
        "\n"
      ],
      "execution_count": null,
      "outputs": [
        {
          "output_type": "stream",
          "name": "stdout",
          "text": [
            "shape of y_test= (63,)\n"
          ]
        }
      ]
    },
    {
      "cell_type": "code",
      "metadata": {
        "id": "v84LgGceZ_L3"
      },
      "source": [
        "cm = confusion_matrix(y_test, y_pred)"
      ],
      "execution_count": null,
      "outputs": []
    },
    {
      "cell_type": "code",
      "metadata": {
        "id": "clD47yZRTybi",
        "colab": {
          "base_uri": "https://localhost:8080/"
        },
        "outputId": "3fe8bc8b-ce4a-4d1a-dd9e-2aae1247e8cb"
      },
      "source": [
        "np.set_printoptions(precision=2)\n",
        "print(cm)"
      ],
      "execution_count": null,
      "outputs": [
        {
          "output_type": "stream",
          "name": "stdout",
          "text": [
            "[[21  0  0]\n",
            " [ 5 16  0]\n",
            " [ 0  0 21]]\n"
          ]
        }
      ]
    },
    {
      "cell_type": "code",
      "metadata": {
        "id": "NL6VDAWbUBoq"
      },
      "source": [
        "cm_df = pd.DataFrame(cm, columns= ['PREDICTED C', 'PREDICTED N', 'PREDICTED R'], index = ['ACTUAL C', 'ACTUAL N', 'ACTUAL R'])"
      ],
      "execution_count": null,
      "outputs": []
    },
    {
      "cell_type": "code",
      "metadata": {
        "id": "QA4zBgjtU0nm",
        "colab": {
          "base_uri": "https://localhost:8080/",
          "height": 143
        },
        "outputId": "c37772d4-e0ae-4b09-c142-a1610cfde0a8"
      },
      "source": [
        "cm_df"
      ],
      "execution_count": null,
      "outputs": [
        {
          "output_type": "execute_result",
          "data": {
            "text/plain": [
              "          PREDICTED C  PREDICTED N  PREDICTED R\n",
              "ACTUAL C           21            0            0\n",
              "ACTUAL N            5           16            0\n",
              "ACTUAL R            0            0           21"
            ],
            "text/html": [
              "\n",
              "  <div id=\"df-ddec6917-4ba6-4b0f-91b2-759ed50bdfbd\">\n",
              "    <div class=\"colab-df-container\">\n",
              "      <div>\n",
              "<style scoped>\n",
              "    .dataframe tbody tr th:only-of-type {\n",
              "        vertical-align: middle;\n",
              "    }\n",
              "\n",
              "    .dataframe tbody tr th {\n",
              "        vertical-align: top;\n",
              "    }\n",
              "\n",
              "    .dataframe thead th {\n",
              "        text-align: right;\n",
              "    }\n",
              "</style>\n",
              "<table border=\"1\" class=\"dataframe\">\n",
              "  <thead>\n",
              "    <tr style=\"text-align: right;\">\n",
              "      <th></th>\n",
              "      <th>PREDICTED C</th>\n",
              "      <th>PREDICTED N</th>\n",
              "      <th>PREDICTED R</th>\n",
              "    </tr>\n",
              "  </thead>\n",
              "  <tbody>\n",
              "    <tr>\n",
              "      <th>ACTUAL C</th>\n",
              "      <td>21</td>\n",
              "      <td>0</td>\n",
              "      <td>0</td>\n",
              "    </tr>\n",
              "    <tr>\n",
              "      <th>ACTUAL N</th>\n",
              "      <td>5</td>\n",
              "      <td>16</td>\n",
              "      <td>0</td>\n",
              "    </tr>\n",
              "    <tr>\n",
              "      <th>ACTUAL R</th>\n",
              "      <td>0</td>\n",
              "      <td>0</td>\n",
              "      <td>21</td>\n",
              "    </tr>\n",
              "  </tbody>\n",
              "</table>\n",
              "</div>\n",
              "      <button class=\"colab-df-convert\" onclick=\"convertToInteractive('df-ddec6917-4ba6-4b0f-91b2-759ed50bdfbd')\"\n",
              "              title=\"Convert this dataframe to an interactive table.\"\n",
              "              style=\"display:none;\">\n",
              "        \n",
              "  <svg xmlns=\"http://www.w3.org/2000/svg\" height=\"24px\"viewBox=\"0 0 24 24\"\n",
              "       width=\"24px\">\n",
              "    <path d=\"M0 0h24v24H0V0z\" fill=\"none\"/>\n",
              "    <path d=\"M18.56 5.44l.94 2.06.94-2.06 2.06-.94-2.06-.94-.94-2.06-.94 2.06-2.06.94zm-11 1L8.5 8.5l.94-2.06 2.06-.94-2.06-.94L8.5 2.5l-.94 2.06-2.06.94zm10 10l.94 2.06.94-2.06 2.06-.94-2.06-.94-.94-2.06-.94 2.06-2.06.94z\"/><path d=\"M17.41 7.96l-1.37-1.37c-.4-.4-.92-.59-1.43-.59-.52 0-1.04.2-1.43.59L10.3 9.45l-7.72 7.72c-.78.78-.78 2.05 0 2.83L4 21.41c.39.39.9.59 1.41.59.51 0 1.02-.2 1.41-.59l7.78-7.78 2.81-2.81c.8-.78.8-2.07 0-2.86zM5.41 20L4 18.59l7.72-7.72 1.47 1.35L5.41 20z\"/>\n",
              "  </svg>\n",
              "      </button>\n",
              "      \n",
              "  <style>\n",
              "    .colab-df-container {\n",
              "      display:flex;\n",
              "      flex-wrap:wrap;\n",
              "      gap: 12px;\n",
              "    }\n",
              "\n",
              "    .colab-df-convert {\n",
              "      background-color: #E8F0FE;\n",
              "      border: none;\n",
              "      border-radius: 50%;\n",
              "      cursor: pointer;\n",
              "      display: none;\n",
              "      fill: #1967D2;\n",
              "      height: 32px;\n",
              "      padding: 0 0 0 0;\n",
              "      width: 32px;\n",
              "    }\n",
              "\n",
              "    .colab-df-convert:hover {\n",
              "      background-color: #E2EBFA;\n",
              "      box-shadow: 0px 1px 2px rgba(60, 64, 67, 0.3), 0px 1px 3px 1px rgba(60, 64, 67, 0.15);\n",
              "      fill: #174EA6;\n",
              "    }\n",
              "\n",
              "    [theme=dark] .colab-df-convert {\n",
              "      background-color: #3B4455;\n",
              "      fill: #D2E3FC;\n",
              "    }\n",
              "\n",
              "    [theme=dark] .colab-df-convert:hover {\n",
              "      background-color: #434B5C;\n",
              "      box-shadow: 0px 1px 3px 1px rgba(0, 0, 0, 0.15);\n",
              "      filter: drop-shadow(0px 1px 2px rgba(0, 0, 0, 0.3));\n",
              "      fill: #FFFFFF;\n",
              "    }\n",
              "  </style>\n",
              "\n",
              "      <script>\n",
              "        const buttonEl =\n",
              "          document.querySelector('#df-ddec6917-4ba6-4b0f-91b2-759ed50bdfbd button.colab-df-convert');\n",
              "        buttonEl.style.display =\n",
              "          google.colab.kernel.accessAllowed ? 'block' : 'none';\n",
              "\n",
              "        async function convertToInteractive(key) {\n",
              "          const element = document.querySelector('#df-ddec6917-4ba6-4b0f-91b2-759ed50bdfbd');\n",
              "          const dataTable =\n",
              "            await google.colab.kernel.invokeFunction('convertToInteractive',\n",
              "                                                     [key], {});\n",
              "          if (!dataTable) return;\n",
              "\n",
              "          const docLinkHtml = 'Like what you see? Visit the ' +\n",
              "            '<a target=\"_blank\" href=https://colab.research.google.com/notebooks/data_table.ipynb>data table notebook</a>'\n",
              "            + ' to learn more about interactive tables.';\n",
              "          element.innerHTML = '';\n",
              "          dataTable['output_type'] = 'display_data';\n",
              "          await google.colab.output.renderOutput(dataTable, element);\n",
              "          const docLink = document.createElement('div');\n",
              "          docLink.innerHTML = docLinkHtml;\n",
              "          element.appendChild(docLink);\n",
              "        }\n",
              "      </script>\n",
              "    </div>\n",
              "  </div>\n",
              "  "
            ]
          },
          "metadata": {},
          "execution_count": 35
        }
      ]
    },
    {
      "cell_type": "code",
      "metadata": {
        "id": "UF_jf35DVAJ1",
        "colab": {
          "base_uri": "https://localhost:8080/"
        },
        "outputId": "1cde444d-5c89-4f96-d816-633ecd52d860"
      },
      "source": [
        "def multi_class_parameters(conf_matrix):\n",
        "  ACC = (sum(conf_matrix.diagonal())/sum(sum(conf_matrix)))\n",
        "  MC = 1-ACC\n",
        "  [row, col]= conf_matrix.shape\n",
        "  if(row>2):\n",
        "    PR = [None] * row\n",
        "    RC = [None] * row\n",
        "    F1 = [None] * row\n",
        "    SP = [None] * row\n",
        "    ind = list(range(0,row))\n",
        "    for cm in range(0,row):\n",
        "      TN = None\n",
        "      ind = list(range(0,row))\n",
        "      PR[cm] = conf_matrix[cm,cm]/(conf_matrix[:,cm]).sum()\n",
        "      RC[cm] = conf_matrix[cm,cm]/(conf_matrix[cm,:]).sum()\n",
        "      F1[cm] = (2*(PR[cm])*(RC[cm]))/((PR[cm])+(RC[cm]))\n",
        "      ind.pop(cm)\n",
        "      TN = (conf_matrix[np.ix_(ind,ind)]).sum()\n",
        "      SP[cm] = TN/(conf_matrix[ind,:]).sum()\n",
        "\n",
        "    Avg_RC =sum(RC)/row\n",
        "    Avg_SP = sum(SP)/row\n",
        "    Avg_PR = sum(PR)/row\n",
        "    Avg_F1 = sum(F1)/row\n",
        "    print('1. Accuracy:',ACC)\n",
        "    print('2. Mis_classification:', MC)\n",
        "    print('3. Sensitivity (Recall):',Avg_RC)\n",
        "    print('4. specificity:',Avg_SP)\n",
        "    print('5. Precision:',Avg_PR)\n",
        "    print('6. F_1 Score:',Avg_F1)\n",
        "  else:\n",
        "    TP = conf_matrix[1][1]\n",
        "    TN = conf_matrix[0][0]\n",
        "    FP = conf_matrix[0][1]\n",
        "    FN = conf_matrix[1][0]\n",
        "    MC = 1-ACC\n",
        "    ACC = (float(TP+TN)/float(TP+TN+FP+FN))\n",
        "    RC = (TP/ float(TP+TN))\n",
        "    SP = (TN/ float(TN+TF))\n",
        "    PR = (TP/float(TP+FP))\n",
        "    F1 = 2*((PR*RC)/(PR+RC))\n",
        "    print('1. Accuracy:',ACC)\n",
        "    print('2. Mis_classification:', MC)\n",
        "    print('3. Sensitivity (Recall):',Avg_RC)\n",
        "    print('4. specificity:',Avg_SP)\n",
        "    print('5. Precision:',Avg_PR)\n",
        "    print('6. F_1 Score:',Avg_F1)\n",
        "multi_class_parameters(cm)\n",
        "\n",
        "\n",
        "\n"
      ],
      "execution_count": null,
      "outputs": [
        {
          "output_type": "stream",
          "name": "stdout",
          "text": [
            "1. Accuracy: 0.9206349206349206\n",
            "2. Mis_classification: 0.07936507936507942\n",
            "3. Sensitivity (Recall): 0.9206349206349206\n",
            "4. specificity: 0.9603174603174603\n",
            "5. Precision: 0.9358974358974358\n",
            "6. F_1 Score: 0.9194939620471535\n"
          ]
        }
      ]
    }
  ]
}